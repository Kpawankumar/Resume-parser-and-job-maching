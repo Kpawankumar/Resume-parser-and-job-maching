{
 "cells": [
  {
   "cell_type": "code",
   "execution_count": null,
   "metadata": {},
   "outputs": [],
   "source": [
    "!pip install spacy pdfplumber docx2txt scikit-learn\n",
    "!python -m spacy download en_core_web_sm"
   ]
  },
  {
   "cell_type": "code",
   "execution_count": null,
   "metadata": {},
   "outputs": [],
   "source": [
    "!pip install docx2txt\n",
    "!pip install pdfplumber"
   ]
  },
  {
   "cell_type": "code",
   "execution_count": null,
   "metadata": {},
   "outputs": [],
   "source": [
    "import spacy, pdfplumber, docx2txt\n",
    "from sklearn.feature_extraction.text import TfidfVectorizer\n",
    "from sklearn.metrics.pairwise import cosine_similarity\n",
    "\n",
    "def extract_text(file_path):\n",
    "    #Extracts text from a PDF or DOCX file\n",
    "    if file_path.endswith(\".pdf\"):\n",
    "        with pdfplumber.open(file_path) as pdf:\n",
    "            return \" \".join([page.extract_text() for page in pdf.pages if page.extract_text()])\n",
    "    elif file_path.endswith(\".docx\"):\n",
    "        return docx2txt.process(file_path)\n",
    "    return \"\"\n",
    "\n",
    "def process_resume(text):\n",
    "   # \"\"\"Analyzes resume text and extracts key information like skills, education, and experience.\"\"\"\n",
    "    doc = nlp(text)\n",
    "    return {ent.label_: ent.text for ent in doc.ents}\n",
    "\n",
    "def match_job(resume_text, job_desc):\n",
    "   # \"\"\"Calculates a match score between the resume and job description using TF-IDF and cosine similarity.\"\"\"\n",
    "    vectorizer = TfidfVectorizer()\n",
    "    vectors = vectorizer.fit_transform([resume_text, job_desc])\n",
    "    return round(cosine_similarity(vectors[0], vectors[1])[0][0] * 100, 2)\n",
    "\n",
    "if __name__ == \"__main__\":\n",
    "    nlp = spacy.load(\"en_core_web_sm\")\n",
    "    file_path = input(\"Enter resume file path (PDF/DOCX): \").strip()\n",
    "    job_desc = input(\"Enter job description: \").strip()\n",
    "    \n",
    "    resume_text = extract_text(file_path)\n",
    "    resume_info = process_resume(resume_text)\n",
    "    match_score = match_job(resume_text, job_desc)\n",
    "    \n",
    "    print(\"\\n Resume Details:\")\n",
    "    for label, value in resume_info.items():\n",
    "        print(f\"{label}: {value}\")\n",
    "    \n",
    "    print(f\"\\n Job Match Score: {match_score}%\")\n"
   ]
  }
 ],
 "metadata": {
  "language_info": {
   "name": "python"
  }
 },
 "nbformat": 4,
 "nbformat_minor": 2
}
